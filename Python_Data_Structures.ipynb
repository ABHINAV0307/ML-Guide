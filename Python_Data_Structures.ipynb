{
  "nbformat": 4,
  "nbformat_minor": 0,
  "metadata": {
    "colab": {
      "provenance": [],
      "collapsed_sections": []
    },
    "kernelspec": {
      "name": "python3",
      "display_name": "Python 3"
    },
    "language_info": {
      "name": "python"
    }
  },
  "cells": [
    {
      "cell_type": "markdown",
      "source": [
        "# ***PYTHON DATA STRUCTURES***\n",
        "\n",
        "The basic Python data structures in Python include list, set, tuples, and dictionary. Each of the data structures is unique in its own way. Data structures are “containers” that organize and group data according to type. The data structures differ based on mutability and order."
      ],
      "metadata": {
        "id": "6ma-n6rAegmk"
      }
    },
    {
      "cell_type": "markdown",
      "source": [
        "![python_data_structures.png](data:image/png;base64,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)"
      ],
      "metadata": {
        "id": "4Yar7Zmh_yur"
      }
    },
    {
      "cell_type": "markdown",
      "source": [
        "There are four collection data types in the Python programming language:\n",
        "\n",
        "1. **List** is a collection which is ordered and changeable. Allows duplicate members.\n",
        "2. **Tuple** is a collection which is ordered and unchangeable. Allows duplicate members.\n",
        "3. **Set** is a collection which is unordered and unindexed. No duplicate members.\n",
        "4. **Dictionary** is a collection which is unordered, changeable and indexed. No duplicate members.\n",
        "\n",
        "When choosing a collection type, it is useful to understand the properties of that type. Choosing the right type for a particular data set could mean retention of meaning, and, it could mean an increase in efficiency or security.\n",
        "\n"
      ],
      "metadata": {
        "id": "44F_k_E3ALWO"
      }
    },
    {
      "cell_type": "markdown",
      "source": [
        "# *List*\n",
        "\n",
        "A list is a collection which is ordered and changeable. In Python lists are written with square brackets. [ ]\n",
        "\n"
      ],
      "metadata": {
        "id": "MCehfVY5WMuq"
      }
    },
    {
      "cell_type": "code",
      "source": [
        "# Example\n",
        "thislist = [\"apple\",\"banana\",\"guava\",\"cherry\"]\n",
        "print(thislist)"
      ],
      "metadata": {
        "colab": {
          "base_uri": "https://localhost:8080/"
        },
        "id": "0xRQfNMsWYbG",
        "outputId": "68deafea-d4b5-4468-eda3-26f542ca6bf8"
      },
      "execution_count": 1,
      "outputs": [
        {
          "output_type": "stream",
          "name": "stdout",
          "text": [
            "['apple', 'banana', 'guava', 'cherry']\n"
          ]
        }
      ]
    },
    {
      "cell_type": "markdown",
      "source": [
        "**Access Items**\n",
        "\n",
        "You access the list items by referring to the index number: (Index numbering start from 0 to n-1)"
      ],
      "metadata": {
        "id": "lO337KpsWlOK"
      }
    },
    {
      "cell_type": "code",
      "source": [
        "thislist = [\"apple\",\"banana\",\"cherry\"]\n",
        "print(thislist[2])"
      ],
      "metadata": {
        "colab": {
          "base_uri": "https://localhost:8080/"
        },
        "id": "ssWElC2jWpXy",
        "outputId": "aa5fc22b-a8ac-4bec-dd24-74404246f9b6"
      },
      "execution_count": 2,
      "outputs": [
        {
          "output_type": "stream",
          "name": "stdout",
          "text": [
            "cherry\n"
          ]
        }
      ]
    },
    {
      "cell_type": "markdown",
      "source": [
        "**Loop Through a list**\n",
        "\n",
        "You can loop through the list items by using a for loop."
      ],
      "metadata": {
        "id": "ppMUN_CrWxX6"
      }
    },
    {
      "cell_type": "code",
      "source": [
        "thislist = [\"apple\",\"banana\",\"guava\",\"cherry\"]\n",
        "for x in thislist:\n",
        "  print(x)"
      ],
      "metadata": {
        "colab": {
          "base_uri": "https://localhost:8080/"
        },
        "id": "q5f6D3X2W7ao",
        "outputId": "117a6ce3-2c16-477a-c22f-c56b246f45fe"
      },
      "execution_count": 3,
      "outputs": [
        {
          "output_type": "stream",
          "name": "stdout",
          "text": [
            "apple\n",
            "banana\n",
            "guava\n",
            "cherry\n"
          ]
        }
      ]
    },
    {
      "cell_type": "markdown",
      "source": [
        "**Change Item Value**\n",
        "\n",
        "To change the value of a specific item, refer to the index number:\n",
        "\n"
      ],
      "metadata": {
        "id": "SG9maQfBXD-t"
      }
    },
    {
      "cell_type": "code",
      "source": [
        "thislist = [\"apple\",\"banana\",\"cherry\"]\n",
        "thislist[1] = \"blackcurrant\"\n",
        "print(thislist)"
      ],
      "metadata": {
        "colab": {
          "base_uri": "https://localhost:8080/"
        },
        "id": "zHQpI90XXHFd",
        "outputId": "8e7dfe06-a243-4f3a-eb6f-6eb3753e8cf9"
      },
      "execution_count": 4,
      "outputs": [
        {
          "output_type": "stream",
          "name": "stdout",
          "text": [
            "['apple', 'blackcurrant', 'cherry']\n"
          ]
        }
      ]
    },
    {
      "cell_type": "markdown",
      "source": [
        "**List Length**\n",
        "\n",
        "To determine how many items a list has, use the len() method:\n",
        "\n"
      ],
      "metadata": {
        "id": "2vXsskRSXQOa"
      }
    },
    {
      "cell_type": "code",
      "source": [
        "thislist = [\"apple\",\"banana\",\"cherry\"]\n",
        "print(len(thislist))"
      ],
      "metadata": {
        "colab": {
          "base_uri": "https://localhost:8080/"
        },
        "id": "1zd1va53XVxW",
        "outputId": "204fbe49-32e4-4034-95ae-0aa68cbe27d1"
      },
      "execution_count": 5,
      "outputs": [
        {
          "output_type": "stream",
          "name": "stdout",
          "text": [
            "3\n"
          ]
        }
      ]
    },
    {
      "cell_type": "markdown",
      "source": [
        "**Add Items**\n",
        "\n",
        "To add an item to the end of the list, use the append() method:"
      ],
      "metadata": {
        "id": "YIaPAOjTXglF"
      }
    },
    {
      "cell_type": "code",
      "source": [
        "thislist = [\"apple\",\"banana\",\"cherry\"]\n",
        "thislist.append(\"blackcurrant\")\n",
        "print(thislist)"
      ],
      "metadata": {
        "colab": {
          "base_uri": "https://localhost:8080/"
        },
        "id": "UtVOT1uRXl0L",
        "outputId": "b1a65d9f-a28c-40b5-d526-aa2d8c60b2e1"
      },
      "execution_count": 6,
      "outputs": [
        {
          "output_type": "stream",
          "name": "stdout",
          "text": [
            "['apple', 'banana', 'cherry', 'blackcurrant']\n"
          ]
        }
      ]
    },
    {
      "cell_type": "markdown",
      "source": [
        "To add an item at the specified index, use the insert() method:"
      ],
      "metadata": {
        "id": "f7g1WoSSXwli"
      }
    },
    {
      "cell_type": "code",
      "source": [
        "thislist = [\"apple\",\"banana\",\"cherry\"]\n",
        "thislist.insert(2,\"orange\")\n",
        "print(thislist)"
      ],
      "metadata": {
        "colab": {
          "base_uri": "https://localhost:8080/"
        },
        "id": "ldLQXa0WX2OK",
        "outputId": "d523f2b4-fbc3-4340-fad8-f0a2ab83de3c"
      },
      "execution_count": 7,
      "outputs": [
        {
          "output_type": "stream",
          "name": "stdout",
          "text": [
            "['apple', 'banana', 'orange', 'cherry']\n"
          ]
        }
      ]
    },
    {
      "cell_type": "markdown",
      "source": [
        "**Python List/Array Methods**\n",
        "\n",
        "\n",
        "**append()** : Adds an element at the end of the list\n",
        "\n",
        "**clear()** : Removes all the elements from the list\n",
        "\n",
        "**copy()** : Returns a copy of the list\n",
        "\n",
        "**count()** : Returns the number of elements with the specified value\n",
        "\n",
        "**extend()** : Add the elements of a list (or any iterable), to the end of the current list\n",
        "\n",
        "**index()** : Returns the index of the first element with the specified value\n",
        "\n",
        "**insert()** : Adds an element at the specified position\n",
        "\n",
        "**pop()** : Removes the element at the specified position\n",
        "\n",
        "**remove()** : Removes the item with the specified value\n",
        "\n",
        "**reverse()** : Reverses the order of the list\n",
        "\n",
        "**sort()** : Sorts the list\n",
        "\n",
        "**copy()** : Returns a copy of the list\n",
        "\n",
        "---\n",
        "\n",
        "\n",
        "\n",
        "---\n",
        "\n",
        "\n",
        "\n"
      ],
      "metadata": {
        "id": "h2VgE0nAX-eP"
      }
    },
    {
      "cell_type": "markdown",
      "source": [
        "# *Tuples*\n",
        "\n",
        "A tuple is a collection which is ordered and immutable (unchangeable). In Python tuples are written with round brackets."
      ],
      "metadata": {
        "id": "w0H3g7SrYyiI"
      }
    },
    {
      "cell_type": "code",
      "source": [
        "thistuple = (\"apple\",\"banana\",\"cherry\")\n",
        "print(thistuple)\n"
      ],
      "metadata": {
        "colab": {
          "base_uri": "https://localhost:8080/"
        },
        "id": "Ni-Apz99Y3nE",
        "outputId": "7354db5c-f68b-4eaa-edb4-dc8f46f30a24"
      },
      "execution_count": 9,
      "outputs": [
        {
          "output_type": "stream",
          "name": "stdout",
          "text": [
            "('apple', 'banana', 'cherry')\n"
          ]
        }
      ]
    },
    {
      "cell_type": "markdown",
      "source": [
        "**Access Tuple Items**\n",
        "\n",
        "You can access tuple items by referring to the index number, inside square brackets: (indexing start from 0 to n-1)"
      ],
      "metadata": {
        "id": "WJrkovbxY-43"
      }
    },
    {
      "cell_type": "code",
      "source": [
        "thistuple = (\"apple\",\"banana\",\"cherry\")\n",
        "print(thistuple[1])"
      ],
      "metadata": {
        "colab": {
          "base_uri": "https://localhost:8080/"
        },
        "id": "4pylcUGMZEUN",
        "outputId": "8fac02a7-01a9-4158-f1eb-eb3239926dc1"
      },
      "execution_count": 10,
      "outputs": [
        {
          "output_type": "stream",
          "name": "stdout",
          "text": [
            "banana\n"
          ]
        }
      ]
    },
    {
      "cell_type": "markdown",
      "source": [
        "**Change Tuple Values**\n",
        "\n",
        "Once a tuple is created, you cannot change its values. **Tuples are unchangeable or immutable.**"
      ],
      "metadata": {
        "id": "xgU4gbEvZHpJ"
      }
    },
    {
      "cell_type": "code",
      "source": [
        "thistuple = (\"apple\",\"banana\",\"cherry\")\n",
        "thistuple[1]=\"blackcurrat\"\n",
        "print(thistuple)"
      ],
      "metadata": {
        "colab": {
          "base_uri": "https://localhost:8080/",
          "height": 201
        },
        "id": "LqDUz7riZQme",
        "outputId": "a397f934-1918-4b27-b57c-806dc73490ca"
      },
      "execution_count": 11,
      "outputs": [
        {
          "output_type": "error",
          "ename": "TypeError",
          "evalue": "ignored",
          "traceback": [
            "\u001b[0;31m---------------------------------------------------------------------------\u001b[0m",
            "\u001b[0;31mTypeError\u001b[0m                                 Traceback (most recent call last)",
            "\u001b[0;32m<ipython-input-11-bda0e4140734>\u001b[0m in \u001b[0;36m<module>\u001b[0;34m\u001b[0m\n\u001b[1;32m      1\u001b[0m \u001b[0mthistuple\u001b[0m \u001b[0;34m=\u001b[0m \u001b[0;34m(\u001b[0m\u001b[0;34m\"apple\"\u001b[0m\u001b[0;34m,\u001b[0m\u001b[0;34m\"banana\"\u001b[0m\u001b[0;34m,\u001b[0m\u001b[0;34m\"cherry\"\u001b[0m\u001b[0;34m)\u001b[0m\u001b[0;34m\u001b[0m\u001b[0;34m\u001b[0m\u001b[0m\n\u001b[0;32m----> 2\u001b[0;31m \u001b[0mthistuple\u001b[0m\u001b[0;34m[\u001b[0m\u001b[0;36m1\u001b[0m\u001b[0;34m]\u001b[0m\u001b[0;34m=\u001b[0m\u001b[0;34m\"blackcurrat\"\u001b[0m\u001b[0;34m\u001b[0m\u001b[0;34m\u001b[0m\u001b[0m\n\u001b[0m\u001b[1;32m      3\u001b[0m \u001b[0mprint\u001b[0m\u001b[0;34m(\u001b[0m\u001b[0mthistuple\u001b[0m\u001b[0;34m)\u001b[0m\u001b[0;34m\u001b[0m\u001b[0;34m\u001b[0m\u001b[0m\n",
            "\u001b[0;31mTypeError\u001b[0m: 'tuple' object does not support item assignment"
          ]
        }
      ]
    },
    {
      "cell_type": "markdown",
      "source": [
        "**Loop Through a Tuple**\n",
        "\n",
        "You can loop through the tuple items by using a for loop."
      ],
      "metadata": {
        "id": "JMSy9NUAZXzo"
      }
    },
    {
      "cell_type": "code",
      "source": [
        "thistuple = (\"apple\",\"banana\",\"cherry\")\n",
        "for x in thistuple:\n",
        "  print(x)"
      ],
      "metadata": {
        "colab": {
          "base_uri": "https://localhost:8080/"
        },
        "id": "aV-DkPOhZaHf",
        "outputId": "70ebcc87-da77-4eda-8731-5684e5132b55"
      },
      "execution_count": 12,
      "outputs": [
        {
          "output_type": "stream",
          "name": "stdout",
          "text": [
            "apple\n",
            "banana\n",
            "cherry\n"
          ]
        }
      ]
    },
    {
      "cell_type": "markdown",
      "source": [
        "**Tuple Length**\n",
        "\n",
        "To determine how many items a tuple has, use the len() method:"
      ],
      "metadata": {
        "id": "GFD8tN36Zc6m"
      }
    },
    {
      "cell_type": "code",
      "source": [
        "thistuple = (\"apple\",\"banana\",\"cherry\")\n",
        "print(len(thistuple))"
      ],
      "metadata": {
        "colab": {
          "base_uri": "https://localhost:8080/"
        },
        "id": "8XyGHRZEZgX8",
        "outputId": "af57f645-f7e9-4132-b8e8-99baf82deb09"
      },
      "execution_count": 13,
      "outputs": [
        {
          "output_type": "stream",
          "name": "stdout",
          "text": [
            "3\n"
          ]
        }
      ]
    },
    {
      "cell_type": "markdown",
      "source": [
        "**The tuple() Constructor**\n",
        "\n",
        "It is also possible to use the tuple() constructor to make a tuple."
      ],
      "metadata": {
        "id": "kKYyKzsqZ2ph"
      }
    },
    {
      "cell_type": "code",
      "source": [
        "thistuple = tuple((\"apple\",\"banana\",\"cherry\"))\n",
        "print(thistuple)"
      ],
      "metadata": {
        "colab": {
          "base_uri": "https://localhost:8080/"
        },
        "id": "OP0z4sNcZ4qU",
        "outputId": "3dfc4d5a-68e4-4abb-84fd-56ff58b27693"
      },
      "execution_count": 14,
      "outputs": [
        {
          "output_type": "stream",
          "name": "stdout",
          "text": [
            "('apple', 'banana', 'cherry')\n"
          ]
        }
      ]
    },
    {
      "cell_type": "markdown",
      "source": [
        "**Python Tuple Methods**\n",
        "\n",
        "Python has two built-in methods that you can use on tuples.\n",
        "\n",
        "**count()**: Returns the number of times a specified value occurs in a tuple\n",
        "\n",
        "**index()** : Searches the tuple for a specified value and returns the position of where it was found\n",
        "\n",
        "---\n",
        "\n",
        "\n",
        "\n",
        "---\n",
        "\n"
      ],
      "metadata": {
        "id": "U881F1TqZ9Tg"
      }
    },
    {
      "cell_type": "markdown",
      "source": [
        "# *Dictionary*\n",
        "\n",
        "A dictionary is a collection which is unordered, changeable and indexed. In Python dictionaries are written with curly brackets { }, and they have keys and values in each items."
      ],
      "metadata": {
        "id": "icRx3JZtaMvF"
      }
    },
    {
      "cell_type": "code",
      "source": [
        "# Create and print a dictionary:\n",
        "\n",
        "thisdict =\t{\n",
        "  \"brand\": \"Ford\",\n",
        "  \"model\": \"Mustang\",\n",
        "  \"year\": 1964\n",
        "}\n",
        "print(thisdict)"
      ],
      "metadata": {
        "colab": {
          "base_uri": "https://localhost:8080/"
        },
        "id": "oGf5hJsoaZKN",
        "outputId": "2d7c3abc-d2d8-430c-f492-7dc920be4fed"
      },
      "execution_count": 15,
      "outputs": [
        {
          "output_type": "stream",
          "name": "stdout",
          "text": [
            "{'brand': 'Ford', 'model': 'Mustang', 'year': 1964}\n"
          ]
        }
      ]
    },
    {
      "cell_type": "markdown",
      "source": [
        "**Accessing Items**\n",
        "\n",
        "You can access the items of a dictionary by referring to its key name, inside square brackets:\n",
        "\n"
      ],
      "metadata": {
        "id": "uqTVgwNcaeZg"
      }
    },
    {
      "cell_type": "code",
      "source": [
        "thisdict =\t{\n",
        "  \"brand\": \"Ford\",\n",
        "  \"model\": \"Mustang\",\n",
        "  \"year\": 1964\n",
        "}\n",
        "print(thisdict[\"brand\"])"
      ],
      "metadata": {
        "colab": {
          "base_uri": "https://localhost:8080/"
        },
        "id": "GA9AElpfagoc",
        "outputId": "363b6efd-cbfc-40f7-dc51-a626db1ca643"
      },
      "execution_count": 16,
      "outputs": [
        {
          "output_type": "stream",
          "name": "stdout",
          "text": [
            "Ford\n"
          ]
        }
      ]
    },
    {
      "cell_type": "markdown",
      "source": [
        "**Change Values**\n",
        "\n",
        "You can change the value of a specific item by referring to its key name:\n",
        "\n"
      ],
      "metadata": {
        "id": "_m21-3sUamvd"
      }
    },
    {
      "cell_type": "code",
      "source": [
        "thisdict =\t{\n",
        "  \"brand\": \"Ford\",\n",
        "  \"model\": \"Mustang\",\n",
        "  \"year\": 1964\n",
        "}\n",
        "\n",
        "thisdict[\"year\"] = 2018\n",
        "print(thisdict)\n"
      ],
      "metadata": {
        "colab": {
          "base_uri": "https://localhost:8080/"
        },
        "id": "RyDxh9TqaoQ2",
        "outputId": "13d04750-8935-491c-b0b1-0673af26c6df"
      },
      "execution_count": 17,
      "outputs": [
        {
          "output_type": "stream",
          "name": "stdout",
          "text": [
            "{'brand': 'Ford', 'model': 'Mustang', 'year': 2018}\n"
          ]
        }
      ]
    },
    {
      "cell_type": "markdown",
      "source": [
        "**Loop Through a Dictionary**\n",
        "\n",
        "You can loop through a dictionary by using a for loop.\n",
        "\n",
        "When looping through a dictionary, the return value are the keys of the dictionary, but there are methods to return the values as well."
      ],
      "metadata": {
        "id": "SoUBGw7eascD"
      }
    },
    {
      "cell_type": "code",
      "source": [
        "#Print all key names in the dictionary, one by one:\n",
        "\n",
        "thisdict =\t{\n",
        "  \"brand\": \"Ford\",\n",
        "  \"model\": \"Mustang\",\n",
        "  \"year\": 1964\n",
        "}\n",
        "\n",
        "for x in thisdict:\n",
        "  print(x)"
      ],
      "metadata": {
        "colab": {
          "base_uri": "https://localhost:8080/"
        },
        "id": "2mwIh1C-aw2-",
        "outputId": "ccc7b792-f248-4b58-8d23-b2d448304b0e"
      },
      "execution_count": 18,
      "outputs": [
        {
          "output_type": "stream",
          "name": "stdout",
          "text": [
            "brand\n",
            "model\n",
            "year\n"
          ]
        }
      ]
    },
    {
      "cell_type": "markdown",
      "source": [
        "**Dictionary Length**\n",
        "\n",
        "To determine how many items (key-value pairs) a dictionary has, use the len() method.\n",
        "\n"
      ],
      "metadata": {
        "id": "GT_ahLlOa3M2"
      }
    },
    {
      "cell_type": "code",
      "source": [
        "thisdict =\t{\n",
        "  \"brand\": \"Ford\",\n",
        "  \"model\": \"Mustang\",\n",
        "  \"year\": 1964\n",
        "}\n",
        "print(len(thisdict))\n"
      ],
      "metadata": {
        "colab": {
          "base_uri": "https://localhost:8080/"
        },
        "id": "nMLHQUXua5Uj",
        "outputId": "2c428416-6eab-4d2b-b5d1-8625d0746657"
      },
      "execution_count": 19,
      "outputs": [
        {
          "output_type": "stream",
          "name": "stdout",
          "text": [
            "3\n"
          ]
        }
      ]
    },
    {
      "cell_type": "markdown",
      "source": [
        "**Adding Items**\n",
        "\n",
        "Adding an item to the dictionary is done by using a new index key and assigning a value to it:\n",
        "\n"
      ],
      "metadata": {
        "id": "D-gAgACWbAgt"
      }
    },
    {
      "cell_type": "code",
      "source": [
        "thisdict =\t{\n",
        "  \"brand\": \"Ford\",\n",
        "  \"model\": \"Mustang\",\n",
        "  \"year\": 1964\n",
        "}\n",
        "thisdict[\"color\"]=\"Red\"\n",
        "print(thisdict)"
      ],
      "metadata": {
        "colab": {
          "base_uri": "https://localhost:8080/"
        },
        "id": "Xyn7H9A_bCQv",
        "outputId": "f4bed17d-fcf6-40fa-e2f4-03c5c3ba4e33"
      },
      "execution_count": 20,
      "outputs": [
        {
          "output_type": "stream",
          "name": "stdout",
          "text": [
            "{'brand': 'Ford', 'model': 'Mustang', 'year': 1964, 'color': 'Red'}\n"
          ]
        }
      ]
    },
    {
      "cell_type": "markdown",
      "source": [
        "**The dict() Constructor**\n",
        "\n",
        "It is also possible to use the dict() constructor to make a dictionary:"
      ],
      "metadata": {
        "id": "AKSq1M6NbImv"
      }
    },
    {
      "cell_type": "code",
      "source": [
        "thisdict =\tdict(brand=\"Ford\", model=\"Mustang\", year=1964)\n",
        "# note that keywords are not string literals\n",
        "# note the use of equals rather than colon for the assignment\n",
        "print(thisdict)"
      ],
      "metadata": {
        "colab": {
          "base_uri": "https://localhost:8080/"
        },
        "id": "tahoqt__bOFP",
        "outputId": "5516f792-d4ee-4e36-b34a-11d68ab15e5c"
      },
      "execution_count": 21,
      "outputs": [
        {
          "output_type": "stream",
          "name": "stdout",
          "text": [
            "{'brand': 'Ford', 'model': 'Mustang', 'year': 1964}\n"
          ]
        }
      ]
    },
    {
      "cell_type": "markdown",
      "source": [
        "**Python Dictionary Methods**\n",
        "\n",
        "**clear()** : Removes all the elements from the dictionary\n",
        "\n",
        "**copy()**: Returns a copy of the dictionary\n",
        "\n",
        "**fromkeys()** : Returns a dictionary with the specified keys and values\n",
        "\n",
        "**get()** : Returns the value of the specified key\n",
        "\n",
        "**items()** : Returns a list containing the a tuple for each key value pair\n",
        "\n",
        "**keys()**: Returns a list containing the dictionary's keys\n",
        "\n",
        "**pop()** : Removes the element with the specified key\n",
        "\n",
        "**popitem()** : Removes the last inserted key-value pair\n",
        "\n",
        "**setdefault()** : Returns the value of the specified key. If the key does not exist: insert the key, with the specified value\n",
        "\n",
        "**update()** : Updates the dictionary with the specified key-value pairs\n",
        "\n",
        "**values()** :Returns a list of all the values in the dictionary\n",
        "\n",
        "---\n",
        "\n",
        "\n",
        "\n",
        "---\n",
        "\n"
      ],
      "metadata": {
        "id": "gHLecPBbbY9f"
      }
    },
    {
      "cell_type": "markdown",
      "source": [
        "# *Set*\n",
        "\n",
        "A set is a collection which is unordered and unindexed. In Python sets are written with curly brackets { }\n",
        "\n",
        "**Note**: Sets are unordered, so the items will appear in a random order."
      ],
      "metadata": {
        "id": "0pEvduajb28V"
      }
    },
    {
      "cell_type": "code",
      "source": [
        "#Create a Set:\n",
        "\n",
        "thisset = {\"apple\", \"banana\", \"cherry\",\"cherry\"}\n",
        "print(thisset)"
      ],
      "metadata": {
        "colab": {
          "base_uri": "https://localhost:8080/"
        },
        "id": "j37GxHjycQxm",
        "outputId": "67be0a48-7ed4-4f1b-809d-7832cd96cdfc"
      },
      "execution_count": 22,
      "outputs": [
        {
          "output_type": "stream",
          "name": "stdout",
          "text": [
            "{'apple', 'banana', 'cherry'}\n"
          ]
        }
      ]
    },
    {
      "cell_type": "markdown",
      "source": [
        "**Access Items**\n",
        "\n",
        "You cannot access items in a set by referring to an index, since sets are unordered the items has no index.\n",
        "\n",
        "But you can loop through the set items using a for loop, or ask if a specified value is present in a set, by using the in keyword."
      ],
      "metadata": {
        "id": "ndmTnUS6cTLd"
      }
    },
    {
      "cell_type": "code",
      "source": [
        "#Loop through the set, and print the values:\n",
        "\n",
        "thisset = {\"apple\", \"banana\", \"cherry\"}\n",
        "\n",
        "for x in thisset:\n",
        "  print(x)"
      ],
      "metadata": {
        "colab": {
          "base_uri": "https://localhost:8080/"
        },
        "id": "V9xZMeZMcY3H",
        "outputId": "591712ed-87a8-4b98-c58c-e1bf8d0f8991"
      },
      "execution_count": 23,
      "outputs": [
        {
          "output_type": "stream",
          "name": "stdout",
          "text": [
            "apple\n",
            "banana\n",
            "cherry\n"
          ]
        }
      ]
    },
    {
      "cell_type": "markdown",
      "source": [
        "**Change Items**\n",
        "\n",
        "Once a set is created, you cannot change its items becuase it unorder and unindexed, but you can add new items.\n",
        "\n"
      ],
      "metadata": {
        "id": "G2dVMCGuck4s"
      }
    },
    {
      "cell_type": "markdown",
      "source": [
        "**Add Items**\n",
        "\n",
        "To add one item to a set use the add() method."
      ],
      "metadata": {
        "id": "lnLmBIDwcpn1"
      }
    },
    {
      "cell_type": "code",
      "source": [
        "thisset = {\"apple\", \"banana\", \"cherry\"}#\n",
        "thisset.add(\"orange\")\n",
        "print(thisset)"
      ],
      "metadata": {
        "colab": {
          "base_uri": "https://localhost:8080/"
        },
        "id": "U9_RSQvBctPW",
        "outputId": "6dc7f040-b872-4375-8a80-a9c63a8c72dc"
      },
      "execution_count": 24,
      "outputs": [
        {
          "output_type": "stream",
          "name": "stdout",
          "text": [
            "{'apple', 'banana', 'cherry', 'orange'}\n"
          ]
        }
      ]
    },
    {
      "cell_type": "markdown",
      "source": [
        "**Get the Length of a Set**\n",
        "\n",
        "To determine how many items a set has, use the len() method."
      ],
      "metadata": {
        "id": "2jVp8YpHcwiQ"
      }
    },
    {
      "cell_type": "code",
      "source": [
        "thisset = {\"apple\", \"banana\", \"cherry\"}\n",
        "\n",
        "print(len(thisset))"
      ],
      "metadata": {
        "colab": {
          "base_uri": "https://localhost:8080/"
        },
        "id": "uTNrzUSic3n4",
        "outputId": "73fcda10-9785-4558-f220-1977392c79af"
      },
      "execution_count": 25,
      "outputs": [
        {
          "output_type": "stream",
          "name": "stdout",
          "text": [
            "3\n"
          ]
        }
      ]
    },
    {
      "cell_type": "markdown",
      "source": [
        "**The set() Constructor**\n",
        "\n",
        "It is also possible to use the set() constructor to make a set."
      ],
      "metadata": {
        "id": "iAYvdZjCc6BH"
      }
    },
    {
      "cell_type": "code",
      "source": [
        "thisset = set((\"apple\", \"banana\", \"cherry\")) # note the double round-brackets\n",
        "print(thisset)"
      ],
      "metadata": {
        "colab": {
          "base_uri": "https://localhost:8080/"
        },
        "id": "CP5_REwuc_Fj",
        "outputId": "a73397ea-7d15-415f-edf4-37f1447b093b"
      },
      "execution_count": 26,
      "outputs": [
        {
          "output_type": "stream",
          "name": "stdout",
          "text": [
            "{'apple', 'banana', 'cherry'}\n"
          ]
        }
      ]
    },
    {
      "cell_type": "markdown",
      "source": [
        "**Python Set Methods**\n",
        "\n",
        "**add()** : Adds an element to the set\n",
        "\n",
        "**clear()** : Removes all the elements from the set\n",
        "\n",
        "**copy()** : Returns a copy of the set\n",
        "\n",
        "**difference()** : Returns a set containing the difference between two or more sets\n",
        "\n",
        "**difference_update()** : Removes the items in this set that are also included in another, specified set\n",
        "\n",
        "**discard()** : Remove the specified item\n",
        "\n",
        "**intersection()** : Returns a set, that is the intersection of two other sets\n",
        "\n",
        "**intersection_update()** : Removes the items in this set that are not present in other, specified set(s)\n",
        "\n",
        "**isdisjoint()**: Returns whether two sets have a intersection or not\n",
        "\n",
        "**issubset()** : Returns whether another set contains this set or not\n",
        "\n",
        "**issuperset()** : Returns whether this set contains another set or not\n",
        "\n",
        "**pop()** : Removes an element from the set\n",
        "\n",
        "**remove()** : Removes the specified element\n",
        "\n",
        "**symmetric_difference()** : Returns a set with the symmetric differences of two sets\n",
        "\n",
        "**symmetric_difference_update()** : inserts the symmetric differences from this set and another\n",
        "\n",
        "**union()** : Return a set containing the union of sets\n",
        "\n",
        "**update()** :Update the set with another set, or any other iterable\n",
        "\n",
        "\n",
        "---\n",
        "\n",
        "\n",
        "\n",
        "---\n",
        "\n"
      ],
      "metadata": {
        "id": "mCVqihd7dBoV"
      }
    }
  ]
}