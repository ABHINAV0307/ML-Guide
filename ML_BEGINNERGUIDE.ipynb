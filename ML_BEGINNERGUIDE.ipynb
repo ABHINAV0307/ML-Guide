{
  "nbformat": 4,
  "nbformat_minor": 0,
  "metadata": {
    "colab": {
      "provenance": [],
      "collapsed_sections": []
    },
    "kernelspec": {
      "name": "python3",
      "display_name": "Python 3"
    },
    "language_info": {
      "name": "python"
    }
  },
  "cells": [
    {
      "cell_type": "markdown",
      "source": [
        "Machine Learning can be overpowering for beginners. The are complicated calculations, complex scientific conditions, distinctive tools accessible, and not so well-documented cases to bargain with. Usually an awfully soak learning, in fact."
      ],
      "metadata": {
        "id": "lDx6kbFeLEcO"
      }
    },
    {
      "cell_type": "markdown",
      "source": [
        "There's a parcel of application for machine learning. We may not have taken note it but we are experiencing them in our every day lives. Illustrations would be The camera in your smartphone identifies your confront whereas taking that selfie \n",
        "Predicting the weather\n",
        " Photo-tagging in your social organize\n",
        "page Reading the address in a mail envelope for programmed routing Safety highlights in your car like path takeoff, forward collision, person on foot discovery, etc.. Self-driving cars And the list goes on..."
      ],
      "metadata": {
        "id": "BJ62sAj-LFxo"
      }
    },
    {
      "cell_type": "markdown",
      "source": [
        "Machine Learning(ML) Basic Concepts\n",
        "The algorithms behind machine learning are very complex mathematics. We may never understand those if math is not our forte. "
      ],
      "metadata": {
        "id": "8Trz_MegLYm8"
      }
    },
    {
      "cell_type": "markdown",
      "source": [
        "WHAT IS MACHINE LEARNING\n",
        " In the best depiction, it could be a science of making a program to memorize from existing information and be able to anticipate a required yield when encouraged by a unused information. It is exceptionally energizing field and it is the driving constrain behind the far reaching application of Artificial Intelligence(AI) as we know nowadays."
      ],
      "metadata": {
        "id": "qd8WhHf9LrI1"
      }
    },
    {
      "cell_type": "markdown",
      "source": [
        "There are a lot of algorithm for machine learning. One popular one is by using Artificial Neural Networks. This is the brain of machine learning. It is inspired by how the \"neurons\" in our brain works. It consists of the Input Layer, Hidden Layer and an Output Layer. During our learning/training process, this is commonly referred to as model. But technically the model is the result of the process."
      ],
      "metadata": {
        "id": "uXJTdjSkMFVm"
      }
    },
    {
      "cell_type": "markdown",
      "source": [
        "Loss\n",
        "\n",
        "This the summation of errors during training and validation. It is safe to say that the lower the loss, the better our model.\n",
        "\n",
        "Bias\n",
        "\n",
        "This is an extra neuron with a value of 1 added to the input of a layer in an artificial neural network. This is added so that it can be able to train our model better. It is best discussed technically here. If at the beginning you don't understand this, don't worry. As soon as you do more and more machine learning problems, you will understand these concepts in due time.\n",
        "\n",
        "Accuracy\n",
        "\n",
        "This is the percentage of the model's accuracy in predicting the desired output. So, if we have 100 test samples and our model was able to predict 95 correctly (in the case of classifying if a review is good or bad), our accuracy is 95.00%\n",
        "\n",
        "Convergence\n",
        "\n",
        "Technically, we can say that our training has converge when training has reached the minimum loss.\n",
        "\n",
        "Supervised vs Unsupervised Learning\n",
        "\n",
        "Supervised learning means that we have to \"teach\" our machine to learn something. While an unsupervised learning means that the machine will \"learn\" by itself. An easy way to determine if we will using supervised or unsupervised learning is to check the dataset given. If the dataset is labeled, like in our example, the prices of the house are given and we are trying to predict the price for new house, it is a supervised learning. If the dataset is not labeled and we are deriving some relationships in our dataset, this is unsupervised learning. An example is a dataset of customer purchases and we would like to do customer segmentation based on purchased products.\n",
        "\n",
        "There are other kinds of learning like reinforcement learning, but we will focus on these two most popular learning."
      ],
      "metadata": {
        "id": "qbM9I1_aMQs2"
      }
    },
    {
      "cell_type": "markdown",
      "source": [
        "Machine Learning Problems\n",
        "\n",
        "The two most common machine problems are:\n",
        "\n",
        "Regression - predict continous value (e.g. the price of a house)\n",
        "Classification - predict discrete value (e.g. 0=Bad review, 1=Good review)\n",
        "Other concepts\n",
        "\n",
        "There are other concepts in machine learning like backpropagation and regularization to name a few but we will learn them as we go down the slide of our steep learning curve. There are different types of neural networks, too, like Convolutional Neural Network(CNN), Recurrent Neural Network(RNN), Long Short-Term Memory(LSTM) and others but first, let's build our skill on the basic neural network presented earlier."
      ],
      "metadata": {
        "id": "HU_YGhvHMYSt"
      }
    },
    {
      "cell_type": "markdown",
      "source": [
        "ML BOTTOM TO TOP APPROACH\n",
        "The conventional syllabus for those who take bottom-up approach might look like this:\n",
        "\n",
        "Math:\n",
        "Calculus\n",
        "Linear Algebra\n",
        "Discrete mathematics\n",
        "Probability theory\n",
        "Descriptive and Inferential Statistics\n",
        "\n",
        "Programming:\n",
        "Basic Python\n",
        "Advanced Python (OOP, main libraries like Pandas, Numpy, Matplotlib, etc…)\n",
        "Algorithms\n",
        "SQL\n",
        "Second programming language: C++ or R (optional)\n",
        "\n",
        "Machine Learning:\n",
        "Supervised algorithms (regression, classification)\n",
        "Unsupervised and semi-supervised algorithms (clustering, dimensionality reduction, graph-based algorithms)\n",
        "Deep learning (CNNs and RNNs)\n",
        "Reinforcement learning (dynamic programming, Monte Carlo methods, heuristic methods)\n",
        "\n",
        "Machine Learning algorithms for different tasks:\n",
        "Computer vision (e.g.: classification, object detection, semantic segmentation)\n",
        "Natural language processing (e.g.: text classification, sentiment analysis, language modeling, machine translation)\n",
        "Recommending systems\n",
        "Classic machine learning "
      ],
      "metadata": {
        "id": "7rBAbkEkMcG-"
      }
    }
  ]
}