{
  "nbformat": 4,
  "nbformat_minor": 0,
  "metadata": {
    "colab": {
      "provenance": [],
      "collapsed_sections": [
        "amenv9PsPbZN",
        "PptUUGAoRoOK"
      ]
    },
    "kernelspec": {
      "name": "python3",
      "display_name": "Python 3"
    },
    "language_info": {
      "name": "python"
    }
  },
  "cells": [
    {
      "cell_type": "markdown",
      "source": [
        "***BASICS OF PYTHON PROGRAMMING LANGUAGE***\n",
        "\n",
        "---\n",
        "\n",
        "\n",
        "\n",
        "---\n",
        "\n"
      ],
      "metadata": {
        "id": "y-JBc6jaTXxR"
      }
    },
    {
      "cell_type": "markdown",
      "source": [
        "From the https://docs.python.org/3/tutorial/index.html, Python is an easy to learn, powerful programming language. Python’s elegant syntax and dynamic typing, together with its interpreted nature, make it an ideal language for scripting and rapid application development."
      ],
      "metadata": {
        "id": "IB2mO4E9O_PL"
      }
    },
    {
      "cell_type": "markdown",
      "source": [
        "There is a well known Easter Egg in Python called **import this** that when added to your code will automatically output"
      ],
      "metadata": {
        "id": "8t28jaEMHlIL"
      }
    },
    {
      "cell_type": "code",
      "source": [
        "import this"
      ],
      "metadata": {
        "colab": {
          "base_uri": "https://localhost:8080/"
        },
        "id": "iB4wNfS9Hm31",
        "outputId": "b3ac10a6-4c75-43a9-c13a-c6937bfc9957"
      },
      "execution_count": null,
      "outputs": [
        {
          "output_type": "stream",
          "name": "stdout",
          "text": [
            "The Zen of Python, by Tim Peters\n",
            "\n",
            "Beautiful is better than ugly.\n",
            "Explicit is better than implicit.\n",
            "Simple is better than complex.\n",
            "Complex is better than complicated.\n",
            "Flat is better than nested.\n",
            "Sparse is better than dense.\n",
            "Readability counts.\n",
            "Special cases aren't special enough to break the rules.\n",
            "Although practicality beats purity.\n",
            "Errors should never pass silently.\n",
            "Unless explicitly silenced.\n",
            "In the face of ambiguity, refuse the temptation to guess.\n",
            "There should be one-- and preferably only one --obvious way to do it.\n",
            "Although that way may not be obvious at first unless you're Dutch.\n",
            "Now is better than never.\n",
            "Although never is often better than *right* now.\n",
            "If the implementation is hard to explain, it's a bad idea.\n",
            "If the implementation is easy to explain, it may be a good idea.\n",
            "Namespaces are one honking great idea -- let's do more of those!\n"
          ]
        }
      ]
    },
    {
      "cell_type": "markdown",
      "source": [
        "# **Variables**\n",
        "\n",
        "---\n",
        "\n",
        "\n",
        "\n",
        "A variable can have a short name (like x and y) or a more descriptive name (age, carname, total_volume)."
      ],
      "metadata": {
        "id": "CpqvHQbtYJTH"
      }
    },
    {
      "cell_type": "markdown",
      "source": [
        "Rules for Python variables:\n",
        "\n",
        "\n",
        "\n",
        "*   A variable name must start with a letter or the underscore character\n",
        "*   A variable name cannot start with a number\n",
        "\n",
        "\n",
        "*   A variable name can only contain alpha-numeric characters and underscores (A-z, 0-9, and _ )\n",
        "*   Variable names are case-sensitive (age, Age and AGE are three different variables)\n",
        "\n",
        "\n",
        "\n"
      ],
      "metadata": {
        "id": "K5WhF06-YZoG"
      }
    },
    {
      "cell_type": "code",
      "source": [
        "#Legal variable names:\n",
        "myvar = \"String\"\n",
        "my_var = \"String\"\n",
        "_my_var = \"String\"\n",
        "myVar = \"String\"\n",
        "MYVAR = \"String\"\n",
        "myvar2 = \"String\"\n"
      ],
      "metadata": {
        "id": "QLSDJZRlYqNi"
      },
      "execution_count": null,
      "outputs": []
    },
    {
      "cell_type": "code",
      "source": [
        "#Illegal variable names:\n",
        "2myvar = \"String\"\n",
        "my-var = \"String\"\n",
        "my var = \"String\""
      ],
      "metadata": {
        "colab": {
          "base_uri": "https://localhost:8080/",
          "height": 131
        },
        "id": "rfKjU4_6day_",
        "outputId": "1584fe52-5154-471f-d1d9-49b511863ccd"
      },
      "execution_count": null,
      "outputs": [
        {
          "output_type": "error",
          "ename": "SyntaxError",
          "evalue": "ignored",
          "traceback": [
            "\u001b[0;36m  File \u001b[0;32m\"<ipython-input-28-de9824a034f4>\"\u001b[0;36m, line \u001b[0;32m2\u001b[0m\n\u001b[0;31m    2myvar = \"String\"\u001b[0m\n\u001b[0m         ^\u001b[0m\n\u001b[0;31mSyntaxError\u001b[0m\u001b[0;31m:\u001b[0m invalid syntax\n"
          ]
        }
      ]
    },
    {
      "cell_type": "markdown",
      "source": [
        "# **Comments**\n",
        "\n",
        "---\n",
        "Comments in Python is the inclusion of short descriptions along with the code to increase its readability.\n",
        "\n",
        "\n",
        "Inline comment:\n",
        "\n",
        "\n",
        "```\n",
        "# This is comment\n",
        "```\n",
        "Multiline comment:\n",
        "\n",
        "\n",
        "```\n",
        "# This is a\n",
        "# multiline comment\n",
        "```\n",
        "\n",
        "OR\n",
        "\n",
        "\n",
        "```\n",
        "\"\"\"\n",
        "This is a comment\n",
        "written in\n",
        "more than just one line\n",
        "\"\"\"\n",
        "```\n",
        "\n",
        "\n",
        "\n",
        "\n"
      ],
      "metadata": {
        "id": "YPo_6hCWaBwk"
      }
    },
    {
      "cell_type": "markdown",
      "source": [
        "# **The print() Function**\n",
        "\n",
        "---\n",
        "\n",
        "\n",
        "\n",
        "The print() function writes the value of the argument(s) it is given.It handles multiple arguments, floating point-quantities, and strings. Strings are printed without quotes, and a space is inserted between items, so you can format things nicely:"
      ],
      "metadata": {
        "id": "6b15ql3Zavgq"
      }
    },
    {
      "cell_type": "code",
      "source": [
        "print('Hello world!')"
      ],
      "metadata": {
        "colab": {
          "base_uri": "https://localhost:8080/"
        },
        "id": "Pk7F8M7Sa52l",
        "outputId": "f4b7aa04-9f9e-4076-b799-86d6cea233e5"
      },
      "execution_count": null,
      "outputs": [
        {
          "output_type": "stream",
          "name": "stdout",
          "text": [
            "Hello world!\n"
          ]
        }
      ]
    },
    {
      "cell_type": "code",
      "source": [
        "a = 1\n",
        "print('Hello world!', a)"
      ],
      "metadata": {
        "colab": {
          "base_uri": "https://localhost:8080/"
        },
        "id": "eUSDiO5Oa9YT",
        "outputId": "827ab731-1966-4598-df94-ad86b15538c4"
      },
      "execution_count": null,
      "outputs": [
        {
          "output_type": "stream",
          "name": "stdout",
          "text": [
            "Hello world! 1\n"
          ]
        }
      ]
    },
    {
      "cell_type": "markdown",
      "source": [
        "# **Mathematics Operators**\n",
        "\n",
        "\n",
        "---\n",
        "\n"
      ],
      "metadata": {
        "id": "amenv9PsPbZN"
      }
    },
    {
      "cell_type": "code",
      "source": [
        "#Exponent -- Return the power\n",
        "print(2**5)"
      ],
      "metadata": {
        "colab": {
          "base_uri": "https://localhost:8080/"
        },
        "id": "_VcYh4kzP4Tu",
        "outputId": "b041f609-1740-4997-e897-abfab17dedc1"
      },
      "execution_count": null,
      "outputs": [
        {
          "output_type": "stream",
          "name": "stdout",
          "text": [
            "32\n"
          ]
        }
      ]
    },
    {
      "cell_type": "code",
      "source": [
        "#Modulus/Remainder -- Return the reaminder \n",
        "print(22%4)"
      ],
      "metadata": {
        "colab": {
          "base_uri": "https://localhost:8080/"
        },
        "id": "f7e6rjsJQZEY",
        "outputId": "b4644c9b-3dfb-4cd9-b6b3-7766f13c03b0"
      },
      "execution_count": null,
      "outputs": [
        {
          "output_type": "stream",
          "name": "stdout",
          "text": [
            "2\n"
          ]
        }
      ]
    },
    {
      "cell_type": "code",
      "source": [
        "#Integer division -- Return the integer part of divison\n",
        "print(22//4)"
      ],
      "metadata": {
        "colab": {
          "base_uri": "https://localhost:8080/"
        },
        "id": "i_rdUE4JQtn4",
        "outputId": "79916c8d-2f82-4cef-fa61-80301182d95e"
      },
      "execution_count": null,
      "outputs": [
        {
          "output_type": "stream",
          "name": "stdout",
          "text": [
            "5\n"
          ]
        }
      ]
    },
    {
      "cell_type": "code",
      "source": [
        "# Division \n",
        "print(22/4)"
      ],
      "metadata": {
        "colab": {
          "base_uri": "https://localhost:8080/"
        },
        "id": "dSZjuDzURGzs",
        "outputId": "fa58efb6-021a-4774-d2b2-2dd3345a645e"
      },
      "execution_count": null,
      "outputs": [
        {
          "output_type": "stream",
          "name": "stdout",
          "text": [
            "5.5\n"
          ]
        }
      ]
    },
    {
      "cell_type": "code",
      "source": [
        "# Multiplication\n",
        "print(4*9)"
      ],
      "metadata": {
        "colab": {
          "base_uri": "https://localhost:8080/"
        },
        "id": "-70ICXX-RO3w",
        "outputId": "e1bf4f46-012e-4baf-ad01-6baf307c8f0a"
      },
      "execution_count": null,
      "outputs": [
        {
          "output_type": "stream",
          "name": "stdout",
          "text": [
            "36\n"
          ]
        }
      ]
    },
    {
      "cell_type": "code",
      "source": [
        "#Subtraction\n",
        "print(30-2)"
      ],
      "metadata": {
        "colab": {
          "base_uri": "https://localhost:8080/"
        },
        "id": "I0FL_23tRX-C",
        "outputId": "f85bde3a-0d3e-4516-b150-363a24a66ace"
      },
      "execution_count": null,
      "outputs": [
        {
          "output_type": "stream",
          "name": "stdout",
          "text": [
            "28\n"
          ]
        }
      ]
    },
    {
      "cell_type": "code",
      "source": [
        "# Addition\n",
        "print(30+2)"
      ],
      "metadata": {
        "colab": {
          "base_uri": "https://localhost:8080/"
        },
        "id": "RUKb5IWARd5V",
        "outputId": "feccdf43-3fd5-4f14-bb65-85755e9f9a49"
      },
      "execution_count": null,
      "outputs": [
        {
          "output_type": "stream",
          "name": "stdout",
          "text": [
            "32\n"
          ]
        }
      ]
    },
    {
      "cell_type": "markdown",
      "source": [
        "# **Augmented Assignment Operator**\n",
        "\n",
        "---\n",
        "\n",
        "\n",
        "\n",
        "var+=1 -- var=var+1\n"
      ],
      "metadata": {
        "id": "PptUUGAoRoOK"
      }
    },
    {
      "cell_type": "code",
      "source": [
        "num=2\n",
        "num+ = 12\n",
        "print(num)"
      ],
      "metadata": {
        "colab": {
          "base_uri": "https://localhost:8080/"
        },
        "id": "_0sk1fk2TpfX",
        "outputId": "9def1d17-cee2-43ed-ebec-7dcdddc630b5"
      },
      "execution_count": null,
      "outputs": [
        {
          "output_type": "stream",
          "name": "stdout",
          "text": [
            "14\n"
          ]
        }
      ]
    },
    {
      "cell_type": "markdown",
      "source": [
        "# **Data Types**\n",
        "\n",
        "---\n",
        "\n",
        "\n",
        "\n",
        "Integers  --  ...-2,-1,0,1,2...\n",
        "\n",
        "Float -- ...,-1.23,-0.343,0.0, 0.5,1.0,...\n",
        "\n",
        "Strings -- 'a' , 'aa' , 'aaa' , 'Hello!' , '11 cats'\n",
        "\n"
      ],
      "metadata": {
        "id": "2jAAphM8UBfx"
      }
    },
    {
      "cell_type": "markdown",
      "source": [
        "# **Concatenation**\n",
        "\n",
        "---\n",
        "\n",
        "\n",
        "\n",
        "String concatenation means add strings together."
      ],
      "metadata": {
        "id": "OqJGZzDpVLsj"
      }
    },
    {
      "cell_type": "code",
      "source": [
        "\"Abc\"+\"Def\""
      ],
      "metadata": {
        "colab": {
          "base_uri": "https://localhost:8080/",
          "height": 35
        },
        "id": "23XnbMuCVVWz",
        "outputId": "c8a03fd6-2d31-4b12-84b0-506ee5ceef61"
      },
      "execution_count": null,
      "outputs": [
        {
          "output_type": "execute_result",
          "data": {
            "text/plain": [
              "'AbcDef'"
            ],
            "application/vnd.google.colaboratory.intrinsic+json": {
              "type": "string"
            }
          },
          "metadata": {},
          "execution_count": 10
        }
      ]
    },
    {
      "cell_type": "markdown",
      "source": [
        "# **Replication**\n",
        "\n",
        "---\n",
        "\n",
        "\n",
        "\n",
        "The repetition operator is denoted by a '*' symbol and is useful for repeating strings to a certain length."
      ],
      "metadata": {
        "id": "Gp_eoDhHVbXw"
      }
    },
    {
      "cell_type": "code",
      "source": [
        "'Alice' * 5"
      ],
      "metadata": {
        "colab": {
          "base_uri": "https://localhost:8080/",
          "height": 35
        },
        "id": "zECiPvLJVf5k",
        "outputId": "94067bae-2bc5-433f-a6af-d6e380c35ed5"
      },
      "execution_count": null,
      "outputs": [
        {
          "output_type": "execute_result",
          "data": {
            "text/plain": [
              "'AliceAliceAliceAliceAlice'"
            ],
            "application/vnd.google.colaboratory.intrinsic+json": {
              "type": "string"
            }
          },
          "metadata": {},
          "execution_count": 11
        }
      ]
    },
    {
      "cell_type": "markdown",
      "source": [
        "# **The end Keyword**\n",
        "\n",
        "\n",
        "---\n",
        "\n",
        "\n",
        "The keyword argument end can be used to avoid the newline after the output, or end the output with a different string:"
      ],
      "metadata": {
        "id": "YJrIt_3fVobj"
      }
    },
    {
      "cell_type": "code",
      "source": [
        "phrase = ['printed', 'with', 'a', 'dash', 'in', 'between']\n",
        "for word in phrase:\n",
        "    print(word, end='-')"
      ],
      "metadata": {
        "colab": {
          "base_uri": "https://localhost:8080/"
        },
        "id": "lrTIidjDVyoF",
        "outputId": "70cfec39-1842-40c8-c503-2aa97a908839"
      },
      "execution_count": null,
      "outputs": [
        {
          "output_type": "stream",
          "name": "stdout",
          "text": [
            "printed-with-a-dash-in-between-"
          ]
        }
      ]
    },
    {
      "cell_type": "markdown",
      "source": [
        "# **The sep Keyword**\n",
        "\n",
        "\n",
        "---\n",
        "\n",
        "\n",
        "The keyword sep specify how to separate the objects, if there is more than one:\n"
      ],
      "metadata": {
        "id": "Guaf4-GJV78L"
      }
    },
    {
      "cell_type": "code",
      "source": [
        "print('cats', 'dogs', 'mice', sep=',')"
      ],
      "metadata": {
        "colab": {
          "base_uri": "https://localhost:8080/"
        },
        "id": "hXp-JyBRWEHI",
        "outputId": "abd6bb50-2d7b-42ff-8a04-d9d8e1f47199"
      },
      "execution_count": null,
      "outputs": [
        {
          "output_type": "stream",
          "name": "stdout",
          "text": [
            "cats,dogs,mice\n"
          ]
        }
      ]
    },
    {
      "cell_type": "markdown",
      "source": [
        "# **The input() Function**\n",
        "\n",
        "---\n",
        "\n",
        "\n",
        "\n",
        "This function takes the input from the user and converts it into a string."
      ],
      "metadata": {
        "id": "fdabV2vVWJ7x"
      }
    },
    {
      "cell_type": "code",
      "source": [
        "print('What is your name?')   # ask for their name\n",
        "my_name = input()\n",
        "print(\"Hi\",my_name)"
      ],
      "metadata": {
        "colab": {
          "base_uri": "https://localhost:8080/"
        },
        "id": "TFLIn_yvWTE6",
        "outputId": "4f5ff87f-17ea-4bc7-8aed-832c111b8d41"
      },
      "execution_count": null,
      "outputs": [
        {
          "output_type": "stream",
          "name": "stdout",
          "text": [
            "What is your name?\n",
            "Garvit\n",
            "Hi Garvit\n"
          ]
        }
      ]
    },
    {
      "cell_type": "code",
      "source": [
        "print(\"Enter the number\")\n",
        "num=int(input())             #Take the numerical value\n",
        "print(\"The number is\",num)"
      ],
      "metadata": {
        "colab": {
          "base_uri": "https://localhost:8080/"
        },
        "id": "egVX60KUWrRR",
        "outputId": "d5ead261-e5cc-43a8-8909-aee407db83fa"
      },
      "execution_count": null,
      "outputs": [
        {
          "output_type": "stream",
          "name": "stdout",
          "text": [
            "Enter the number\n",
            "04\n",
            "The number is 4\n"
          ]
        }
      ]
    },
    {
      "cell_type": "markdown",
      "source": [
        "# **The len() Function**\n",
        "\n",
        "---\n",
        "\n",
        "\n",
        "\n",
        "Evaluates to the integer value of the number of characters in a string, list, dictionary, etc."
      ],
      "metadata": {
        "id": "YI1XeB1IXAaD"
      }
    },
    {
      "cell_type": "code",
      "source": [
        "len('hello')"
      ],
      "metadata": {
        "colab": {
          "base_uri": "https://localhost:8080/"
        },
        "id": "PNOPSmp-XIaj",
        "outputId": "85695a28-1804-4a6f-e0a9-087a4d5cdd1d"
      },
      "execution_count": null,
      "outputs": [
        {
          "output_type": "execute_result",
          "data": {
            "text/plain": [
              "5"
            ]
          },
          "metadata": {},
          "execution_count": 16
        }
      ]
    },
    {
      "cell_type": "code",
      "source": [
        "len(['cat', 3, 'dog'])"
      ],
      "metadata": {
        "colab": {
          "base_uri": "https://localhost:8080/"
        },
        "id": "Chjiyq1rXLVK",
        "outputId": "3ff69705-8097-4a36-f53f-e50c86c36393"
      },
      "execution_count": null,
      "outputs": [
        {
          "output_type": "execute_result",
          "data": {
            "text/plain": [
              "3"
            ]
          },
          "metadata": {},
          "execution_count": 17
        }
      ]
    },
    {
      "cell_type": "markdown",
      "source": [
        "# **The str(), int(), and float() Functions**\n",
        "\n",
        "---\n",
        "\n",
        "\n",
        "\n",
        "These functions allow you to change the type of variable. For example, \n",
        "\n",
        "you can transform from an integer or float to a string:\n"
      ],
      "metadata": {
        "id": "pDJcRksnXZbG"
      }
    },
    {
      "cell_type": "code",
      "source": [
        "str(123)"
      ],
      "metadata": {
        "colab": {
          "base_uri": "https://localhost:8080/",
          "height": 35
        },
        "id": "65yVpgh4Xj0U",
        "outputId": "fdf0c7d6-09d6-40f5-e29a-ce7948b5d4ab"
      },
      "execution_count": null,
      "outputs": [
        {
          "output_type": "execute_result",
          "data": {
            "text/plain": [
              "'123'"
            ],
            "application/vnd.google.colaboratory.intrinsic+json": {
              "type": "string"
            }
          },
          "metadata": {},
          "execution_count": 18
        }
      ]
    },
    {
      "cell_type": "code",
      "source": [
        "str(-3.14)"
      ],
      "metadata": {
        "colab": {
          "base_uri": "https://localhost:8080/",
          "height": 35
        },
        "id": "8RHzlYOAXpL_",
        "outputId": "17581f08-360e-482d-8734-e8a5cf34f573"
      },
      "execution_count": null,
      "outputs": [
        {
          "output_type": "execute_result",
          "data": {
            "text/plain": [
              "'-3.14'"
            ],
            "application/vnd.google.colaboratory.intrinsic+json": {
              "type": "string"
            }
          },
          "metadata": {},
          "execution_count": 19
        }
      ]
    },
    {
      "cell_type": "markdown",
      "source": [
        "Or from a string to an integer or float"
      ],
      "metadata": {
        "id": "-S1jIcyTXrgY"
      }
    },
    {
      "cell_type": "code",
      "source": [
        "num='100'\n",
        "int(num)"
      ],
      "metadata": {
        "colab": {
          "base_uri": "https://localhost:8080/"
        },
        "id": "rRqU_EuiXvuK",
        "outputId": "de5cf095-bea6-4b89-8427-28ccabd60b23"
      },
      "execution_count": null,
      "outputs": [
        {
          "output_type": "execute_result",
          "data": {
            "text/plain": [
              "100"
            ]
          },
          "metadata": {},
          "execution_count": 20
        }
      ]
    },
    {
      "cell_type": "code",
      "source": [
        "float('3.14')"
      ],
      "metadata": {
        "colab": {
          "base_uri": "https://localhost:8080/"
        },
        "id": "f53LIN42X6ln",
        "outputId": "9e46c4cc-ed9f-4026-9141-780093bce0f5"
      },
      "execution_count": null,
      "outputs": [
        {
          "output_type": "execute_result",
          "data": {
            "text/plain": [
              "3.14"
            ]
          },
          "metadata": {},
          "execution_count": 23
        }
      ]
    },
    {
      "cell_type": "markdown",
      "source": [
        "# **Comparison and Logical Operators**\n",
        "\n",
        "---\n",
        "\n",
        "Comparison operators are used to compare values. It will either return true or false."
      ],
      "metadata": {
        "id": "awblgorcI_Pg"
      }
    },
    {
      "cell_type": "code",
      "source": [
        "# Greater than \n",
        "100 > 1"
      ],
      "metadata": {
        "colab": {
          "base_uri": "https://localhost:8080/"
        },
        "id": "CSAMru7zJPoB",
        "outputId": "5a656167-ef88-4e6e-f155-bd5be3674664"
      },
      "execution_count": null,
      "outputs": [
        {
          "output_type": "execute_result",
          "data": {
            "text/plain": [
              "True"
            ]
          },
          "metadata": {},
          "execution_count": 2
        }
      ]
    },
    {
      "cell_type": "code",
      "source": [
        "# Equal to\n",
        "100 == 1"
      ],
      "metadata": {
        "colab": {
          "base_uri": "https://localhost:8080/"
        },
        "id": "iYNmgGYzJS9e",
        "outputId": "c376644a-6646-4718-ab83-adf3abedd802"
      },
      "execution_count": null,
      "outputs": [
        {
          "output_type": "execute_result",
          "data": {
            "text/plain": [
              "False"
            ]
          },
          "metadata": {},
          "execution_count": 3
        }
      ]
    },
    {
      "cell_type": "code",
      "source": [
        "# Less than\n",
        "\n",
        "100 < 1"
      ],
      "metadata": {
        "colab": {
          "base_uri": "https://localhost:8080/"
        },
        "id": "jiUitHz6JW4R",
        "outputId": "fc564112-3610-4175-a43d-c3dd2216ca28"
      },
      "execution_count": null,
      "outputs": [
        {
          "output_type": "execute_result",
          "data": {
            "text/plain": [
              "False"
            ]
          },
          "metadata": {},
          "execution_count": 4
        }
      ]
    },
    {
      "cell_type": "code",
      "source": [
        "# Greater or equal to\n",
        "\n",
        "100 >= 1"
      ],
      "metadata": {
        "colab": {
          "base_uri": "https://localhost:8080/"
        },
        "id": "u4cbSrv5JY66",
        "outputId": "032d24a5-c8c7-4615-8cde-be1024e7167d"
      },
      "execution_count": null,
      "outputs": [
        {
          "output_type": "execute_result",
          "data": {
            "text/plain": [
              "True"
            ]
          },
          "metadata": {},
          "execution_count": 5
        }
      ]
    },
    {
      "cell_type": "code",
      "source": [
        "# Less or equal to\n",
        "\n",
        "100 <= 1"
      ],
      "metadata": {
        "colab": {
          "base_uri": "https://localhost:8080/"
        },
        "id": "JChmZz4-JbIX",
        "outputId": "a8bd00db-16ae-4045-8703-19a62612df18"
      },
      "execution_count": null,
      "outputs": [
        {
          "output_type": "execute_result",
          "data": {
            "text/plain": [
              "False"
            ]
          },
          "metadata": {},
          "execution_count": 6
        }
      ]
    },
    {
      "cell_type": "code",
      "source": [
        "'Intro to Python' == 'intro to python'"
      ],
      "metadata": {
        "colab": {
          "base_uri": "https://localhost:8080/"
        },
        "id": "II-ymhLnJdDL",
        "outputId": "984c4fd6-294d-4211-db1e-7708423898c4"
      },
      "execution_count": null,
      "outputs": [
        {
          "output_type": "execute_result",
          "data": {
            "text/plain": [
              "False"
            ]
          },
          "metadata": {},
          "execution_count": 7
        }
      ]
    },
    {
      "cell_type": "code",
      "source": [
        "'Intro to Python' == 'Intro to Python'"
      ],
      "metadata": {
        "colab": {
          "base_uri": "https://localhost:8080/"
        },
        "id": "AWDSBIOPJfOT",
        "outputId": "48617205-64a3-4184-a80f-9ed142f1867e"
      },
      "execution_count": null,
      "outputs": [
        {
          "output_type": "execute_result",
          "data": {
            "text/plain": [
              "True"
            ]
          },
          "metadata": {},
          "execution_count": 8
        }
      ]
    },
    {
      "cell_type": "markdown",
      "source": [
        "Logic operators are used to compare two expressions made by comparison operators.\n",
        "\n",
        "\n",
        "*   Logic and returns true only when both expressions are true, otherwise false.\n",
        "*   Logic or returns true when either any of both expressions is true. Only false if both expressions are false.\n",
        "\n",
        "*   Logic not as you can guess, it will return false when given expression is true, vice versa.\n",
        "\n",
        "\n"
      ],
      "metadata": {
        "id": "FAZCN4_CJlxV"
      }
    },
    {
      "cell_type": "code",
      "source": [
        "100 == 100 and 100 == 100"
      ],
      "metadata": {
        "colab": {
          "base_uri": "https://localhost:8080/"
        },
        "id": "Ztyesb1YKacw",
        "outputId": "fbc023b6-145a-4756-ec3d-a4336f626c4b"
      },
      "execution_count": null,
      "outputs": [
        {
          "output_type": "execute_result",
          "data": {
            "text/plain": [
              "True"
            ]
          },
          "metadata": {},
          "execution_count": 9
        }
      ]
    },
    {
      "cell_type": "code",
      "source": [
        "100 == 10 or 100 == 100"
      ],
      "metadata": {
        "colab": {
          "base_uri": "https://localhost:8080/"
        },
        "id": "ntqhIOBrKco0",
        "outputId": "40bb865a-68ec-41e9-9e36-f91c6c882b72"
      },
      "execution_count": null,
      "outputs": [
        {
          "output_type": "execute_result",
          "data": {
            "text/plain": [
              "True"
            ]
          },
          "metadata": {},
          "execution_count": 10
        }
      ]
    },
    {
      "cell_type": "code",
      "source": [
        "100 <= 10 and 100 == 100"
      ],
      "metadata": {
        "colab": {
          "base_uri": "https://localhost:8080/"
        },
        "id": "JOhZ2IAlKe_7",
        "outputId": "3871140a-9ee2-4071-d1af-3e6356bfa393"
      },
      "execution_count": null,
      "outputs": [
        {
          "output_type": "execute_result",
          "data": {
            "text/plain": [
              "False"
            ]
          },
          "metadata": {},
          "execution_count": 11
        }
      ]
    },
    {
      "cell_type": "code",
      "source": [
        "100 == 10 or 100 == 10"
      ],
      "metadata": {
        "colab": {
          "base_uri": "https://localhost:8080/"
        },
        "id": "cgGh58YJKhyq",
        "outputId": "061f5e04-da50-4c44-9975-f240316b2e60"
      },
      "execution_count": null,
      "outputs": [
        {
          "output_type": "execute_result",
          "data": {
            "text/plain": [
              "False"
            ]
          },
          "metadata": {},
          "execution_count": 12
        }
      ]
    },
    {
      "cell_type": "code",
      "source": [
        "not 1 == 2"
      ],
      "metadata": {
        "colab": {
          "base_uri": "https://localhost:8080/"
        },
        "id": "4g3ghjsyKj17",
        "outputId": "0149d26a-93bf-46c4-b828-07eff2d17de5"
      },
      "execution_count": null,
      "outputs": [
        {
          "output_type": "execute_result",
          "data": {
            "text/plain": [
              "True"
            ]
          },
          "metadata": {},
          "execution_count": 13
        }
      ]
    },
    {
      "cell_type": "markdown",
      "source": [
        "# **Control Flow**\n",
        "\n",
        "---\n",
        "\n",
        "\n",
        "\n",
        "As an engineer, you will need to make decisions depending on the particular situation. You will also need to control the flow of the program and this is where Control Flow comes in.\n",
        "\n",
        "We will cover:\n",
        "\n",
        "1.   If Statement\n",
        "2.   For Loop\n",
        "3.   While Loop\n",
        "\n"
      ],
      "metadata": {
        "id": "R56zbzE2LHLU"
      }
    },
    {
      "cell_type": "markdown",
      "source": [
        "**If, Elif, Else**\n",
        "\n",
        "Structure of If condition:\n",
        "\n",
        "    if condition:\n",
        "          do something\n",
        "\n",
        "    else:\n",
        "          do this"
      ],
      "metadata": {
        "id": "nC3iyLmoLjNr"
      }
    },
    {
      "cell_type": "code",
      "source": [
        "if 100 < 2:\n",
        "\n",
        "  print(\"As expected, no thing will be displayed\")"
      ],
      "metadata": {
        "id": "9ql_t-CAL16r"
      },
      "execution_count": null,
      "outputs": []
    },
    {
      "cell_type": "code",
      "source": [
        "if 100 > 2:\n",
        "\n",
        "  print(\"As expected, this thing will be displayed\")"
      ],
      "metadata": {
        "colab": {
          "base_uri": "https://localhost:8080/"
        },
        "id": "57UDfT4rL82z",
        "outputId": "0e08f512-72b5-42a9-d6b8-78e1d42859da"
      },
      "execution_count": null,
      "outputs": [
        {
          "output_type": "stream",
          "name": "stdout",
          "text": [
            "As expected, this thing will be displayed\n"
          ]
        }
      ]
    },
    {
      "cell_type": "code",
      "source": [
        "# Let's assign a number to a variable name 'John_age' and 'luck_age'\n",
        "\n",
        "john_age = 30\n",
        "luck_age = 20\n",
        "\n",
        "if john_age > luck_age:\n",
        "  print(\"John is older than Luck\")\n",
        "\n",
        "else:\n",
        "  print(\" John is younger than Luck\")"
      ],
      "metadata": {
        "colab": {
          "base_uri": "https://localhost:8080/"
        },
        "id": "mau0RgKEMF22",
        "outputId": "4ce1d207-58a8-4552-dd6f-0697f5bf5e9a"
      },
      "execution_count": null,
      "outputs": [
        {
          "output_type": "stream",
          "name": "stdout",
          "text": [
            "John is older than Luck\n"
          ]
        }
      ]
    },
    {
      "cell_type": "code",
      "source": [
        "# Let's use multiple conditions \n",
        "\n",
        "john_age = 30\n",
        "luck_age = 20\n",
        "yan_age = 30\n",
        "\n",
        "if john_age < luck_age:\n",
        "  print(\"John is older than Luck\")\n",
        "\n",
        "elif yan_age == luck_age:\n",
        "  print(\" Yan's Age is same as Luck\")\n",
        "\n",
        "elif luck_age > john_age:\n",
        "  print(\"Luck is older than John\")\n",
        "\n",
        "else:\n",
        "  print(\"John's age is same as Yan\")"
      ],
      "metadata": {
        "colab": {
          "base_uri": "https://localhost:8080/"
        },
        "id": "6g3jgDAjMSYI",
        "outputId": "0395d5ea-623b-494d-a948-3dfc113a6d93"
      },
      "execution_count": null,
      "outputs": [
        {
          "output_type": "stream",
          "name": "stdout",
          "text": [
            "John's age is same as Yan\n"
          ]
        }
      ]
    },
    {
      "cell_type": "markdown",
      "source": [
        "**For Loop**\n",
        "\n",
        "For loop is used to iterate over list, string, tuples, or dictionary.\n",
        "\n",
        "Structure of for loop:\n",
        "\n",
        "    for item in items:\n",
        "           do something"
      ],
      "metadata": {
        "id": "s-b7YpnAMZ-s"
      }
    },
    {
      "cell_type": "code",
      "source": [
        "even_nums = [2,4,6,8,10]\n",
        "\n",
        "for num in even_nums:\n",
        "  print(num)"
      ],
      "metadata": {
        "colab": {
          "base_uri": "https://localhost:8080/"
        },
        "id": "HM9rq0Z3MkJ6",
        "outputId": "129eb853-d3ba-4e9e-eaed-bd2e89f8de16"
      },
      "execution_count": null,
      "outputs": [
        {
          "output_type": "stream",
          "name": "stdout",
          "text": [
            "2\n",
            "4\n",
            "6\n",
            "8\n",
            "10\n"
          ]
        }
      ]
    },
    {
      "cell_type": "code",
      "source": [
        "sentence = \"Hello !!\"\n",
        "\n",
        "for letter in sentence:\n",
        "  print(letter)"
      ],
      "metadata": {
        "colab": {
          "base_uri": "https://localhost:8080/"
        },
        "id": "VavQydjcMrFE",
        "outputId": "5c70c3ce-f055-4914-9e98-b3fd6243ef51"
      },
      "execution_count": null,
      "outputs": [
        {
          "output_type": "stream",
          "name": "stdout",
          "text": [
            "H\n",
            "e\n",
            "l\n",
            "l\n",
            "o\n",
            " \n",
            "!\n",
            "!\n"
          ]
        }
      ]
    },
    {
      "cell_type": "markdown",
      "source": [
        "For can also be used to iterate over an sequence of numbers.\n",
        "\n",
        " Range is used to generate the sequence of numbers.\n",
        "\n",
        "    for number in range:         # range(start,end,step)\n",
        "             do something"
      ],
      "metadata": {
        "id": "GfcPE06BNYPk"
      }
    },
    {
      "cell_type": "code",
      "source": [
        "for number in range(10):\n",
        "  print(number)"
      ],
      "metadata": {
        "colab": {
          "base_uri": "https://localhost:8080/"
        },
        "id": "50CxLZ3MNTYP",
        "outputId": "d5bac99e-0a7c-472c-d4d6-aa1113f389a1"
      },
      "execution_count": null,
      "outputs": [
        {
          "output_type": "stream",
          "name": "stdout",
          "text": [
            "0\n",
            "1\n",
            "2\n",
            "3\n",
            "4\n",
            "5\n",
            "6\n",
            "7\n",
            "8\n",
            "9\n"
          ]
        }
      ]
    },
    {
      "cell_type": "code",
      "source": [
        "for number in range(10, 20,2):\n",
        "  print(number)"
      ],
      "metadata": {
        "colab": {
          "base_uri": "https://localhost:8080/"
        },
        "id": "nH8yJ6ZLNnWG",
        "outputId": "d1064c15-5535-4127-9e50-8065a412970e"
      },
      "execution_count": null,
      "outputs": [
        {
          "output_type": "stream",
          "name": "stdout",
          "text": [
            "10\n",
            "12\n",
            "14\n",
            "16\n",
            "18\n"
          ]
        }
      ]
    },
    {
      "cell_type": "markdown",
      "source": [
        "**While loop**\n",
        "\n",
        "While loop will executes the statement(s) as long as the condition is true.\n",
        "\n",
        "Structure of while loop\n",
        "\n",
        "    while condition:\n",
        "          statement(s)\n"
      ],
      "metadata": {
        "id": "htgQ7v76OD-t"
      }
    },
    {
      "cell_type": "code",
      "source": [
        "a = 10\n",
        "while a < 20:\n",
        "    print(\"a is\",a)\n",
        "    a = a + 1"
      ],
      "metadata": {
        "colab": {
          "base_uri": "https://localhost:8080/"
        },
        "id": "Nc8z8QKPONqg",
        "outputId": "0704e20d-dcbe-4405-9612-42735cdc02e1"
      },
      "execution_count": null,
      "outputs": [
        {
          "output_type": "stream",
          "name": "stdout",
          "text": [
            "a is 10\n",
            "a is 11\n",
            "a is 12\n",
            "a is 13\n",
            "a is 14\n",
            "a is 15\n",
            "a is 16\n",
            "a is 17\n",
            "a is 18\n",
            "a is 19\n"
          ]
        }
      ]
    },
    {
      "cell_type": "markdown",
      "source": [
        "\n",
        "\n",
        "---\n",
        "\n",
        "\n",
        "\n",
        "---\n",
        "\n"
      ],
      "metadata": {
        "id": "oVTOOqgmRcGp"
      }
    }
  ]
}